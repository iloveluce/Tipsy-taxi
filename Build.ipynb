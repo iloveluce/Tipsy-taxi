{
 "metadata": {
  "name": "",
  "signature": "sha256:cf0d2ab76725cc69c3f21a0fc86144c4e348a0d7cd78c89cdeeebc0411bf7639"
 },
 "nbformat": 3,
 "nbformat_minor": 0,
 "worksheets": [
  {
   "cells": [
    {
     "cell_type": "code",
     "collapsed": false,
     "input": [
      "import pandas as pd\n",
      "import numpy as np\n",
      "import random\n",
      "import matplotlib.pyplot as plt # module for plotting \n",
      "\n",
      "%matplotlib inline"
     ],
     "language": "python",
     "metadata": {},
     "outputs": [],
     "prompt_number": 2
    },
    {
     "cell_type": "code",
     "collapsed": false,
     "input": [
      "def build_data(size):\n",
      "    for i in range(1,13):\n",
      "        print i\n",
      "        fare = pd.read_csv('trip_fare_' + str(i) + '.csv').reset_index()\n",
      "        trip = pd.read_csv('trip_data_' + str(i) + '.csv').reset_index()\n",
      "        sample = random.sample(range(0,len(trip) + 1),size)\n",
      "        fare_sub = fare[fare.index.isin(sample)]\n",
      "        trip_sub = trip[trip.index.isin(sample)]\n",
      "        fare_sub.columns = [x[1:] if x[0] == ' ' else x for x in fare_sub.columns]\n",
      "        trip_sub.columns = [x[1:] if x[0] == ' ' else x for x in trip_sub.columns]\n",
      "        del fare,trip\n",
      "        merged = pd.merge(trip_sub,fare_sub, on = ['index','hack_license','vendor_id','pickup_datetime']).drop('index',axis=1)\n",
      "        if i == 1:\n",
      "            df = merged\n",
      "        else:\n",
      "            df = pd.concat([df,merged],ignore_index = True)\n",
      "    return df    \n",
      "\n",
      "taxi = build_data(10000)\n",
      "taxi.to_csv('master.csv')"
     ],
     "language": "python",
     "metadata": {},
     "outputs": [
      {
       "output_type": "stream",
       "stream": "stdout",
       "text": [
        "1\n",
        "2"
       ]
      },
      {
       "output_type": "stream",
       "stream": "stdout",
       "text": [
        "\n",
        "3"
       ]
      },
      {
       "output_type": "stream",
       "stream": "stdout",
       "text": [
        "\n",
        "4"
       ]
      },
      {
       "output_type": "stream",
       "stream": "stdout",
       "text": [
        "\n",
        "5"
       ]
      },
      {
       "output_type": "stream",
       "stream": "stdout",
       "text": [
        "\n",
        "6"
       ]
      },
      {
       "output_type": "stream",
       "stream": "stdout",
       "text": [
        "\n",
        "7"
       ]
      },
      {
       "output_type": "stream",
       "stream": "stdout",
       "text": [
        "\n",
        "8"
       ]
      },
      {
       "output_type": "stream",
       "stream": "stdout",
       "text": [
        "\n",
        "9"
       ]
      },
      {
       "output_type": "stream",
       "stream": "stdout",
       "text": [
        "\n",
        "10"
       ]
      },
      {
       "output_type": "stream",
       "stream": "stdout",
       "text": [
        "\n",
        "11"
       ]
      },
      {
       "output_type": "stream",
       "stream": "stdout",
       "text": [
        "\n",
        "12"
       ]
      },
      {
       "output_type": "stream",
       "stream": "stdout",
       "text": [
        "\n"
       ]
      }
     ],
     "prompt_number": 13
    },
    {
     "cell_type": "code",
     "collapsed": false,
     "input": [
      "taxi.head()"
     ],
     "language": "python",
     "metadata": {},
     "outputs": [
      {
       "html": [
        "<div style=\"max-height:1000px;max-width:1500px;overflow:auto;\">\n",
        "<table border=\"1\" class=\"dataframe\">\n",
        "  <thead>\n",
        "    <tr style=\"text-align: right;\">\n",
        "      <th></th>\n",
        "      <th>medallion_x</th>\n",
        "      <th>hack_license</th>\n",
        "      <th>vendor_id</th>\n",
        "      <th>rate_code</th>\n",
        "      <th>store_and_fwd_flag</th>\n",
        "      <th>pickup_datetime</th>\n",
        "      <th>dropoff_datetime</th>\n",
        "      <th>passenger_count</th>\n",
        "      <th>trip_time_in_secs</th>\n",
        "      <th>trip_distance</th>\n",
        "      <th>...</th>\n",
        "      <th>dropoff_longitude</th>\n",
        "      <th>dropoff_latitude</th>\n",
        "      <th>medallion_y</th>\n",
        "      <th>payment_type</th>\n",
        "      <th>fare_amount</th>\n",
        "      <th>surcharge</th>\n",
        "      <th>mta_tax</th>\n",
        "      <th>tip_amount</th>\n",
        "      <th>tolls_amount</th>\n",
        "      <th>total_amount</th>\n",
        "    </tr>\n",
        "  </thead>\n",
        "  <tbody>\n",
        "    <tr>\n",
        "      <th>0</th>\n",
        "      <td> 515EB6F8BEDB2B17CF1CF3B27B76AA93</td>\n",
        "      <td> A5AFFC8549AF873DEC5889ADE3BE7462</td>\n",
        "      <td> VTS</td>\n",
        "      <td> 1</td>\n",
        "      <td> NaN</td>\n",
        "      <td> 2013-01-13 09:36:00</td>\n",
        "      <td> 2013-01-13 09:45:00</td>\n",
        "      <td> 1</td>\n",
        "      <td>  540</td>\n",
        "      <td>  3.26</td>\n",
        "      <td>...</td>\n",
        "      <td>-73.984390</td>\n",
        "      <td> 40.736214</td>\n",
        "      <td> 515EB6F8BEDB2B17CF1CF3B27B76AA93</td>\n",
        "      <td> CSH</td>\n",
        "      <td> 11.5</td>\n",
        "      <td> 0.0</td>\n",
        "      <td> 0.5</td>\n",
        "      <td>  0.00</td>\n",
        "      <td> 0</td>\n",
        "      <td> 12.00</td>\n",
        "    </tr>\n",
        "    <tr>\n",
        "      <th>1</th>\n",
        "      <td> 6F70DA82F52A1281E4E6646AE996D25A</td>\n",
        "      <td> 4103ADCF50D18CFE25AB616F368A5945</td>\n",
        "      <td> VTS</td>\n",
        "      <td> 2</td>\n",
        "      <td> NaN</td>\n",
        "      <td> 2013-01-13 06:43:00</td>\n",
        "      <td> 2013-01-13 07:03:00</td>\n",
        "      <td> 1</td>\n",
        "      <td> 1200</td>\n",
        "      <td> 17.02</td>\n",
        "      <td>...</td>\n",
        "      <td>  0.000000</td>\n",
        "      <td>  0.000000</td>\n",
        "      <td> 6F70DA82F52A1281E4E6646AE996D25A</td>\n",
        "      <td> CRD</td>\n",
        "      <td> 52.0</td>\n",
        "      <td> 0.0</td>\n",
        "      <td> 0.5</td>\n",
        "      <td> 10.40</td>\n",
        "      <td> 0</td>\n",
        "      <td> 62.90</td>\n",
        "    </tr>\n",
        "    <tr>\n",
        "      <th>2</th>\n",
        "      <td> E8381ABE90A167521E37DFF144BEE70C</td>\n",
        "      <td> 0764AFB6DDECA74D776ABE460EE85CAB</td>\n",
        "      <td> VTS</td>\n",
        "      <td> 1</td>\n",
        "      <td> NaN</td>\n",
        "      <td> 2013-01-13 09:30:00</td>\n",
        "      <td> 2013-01-13 09:43:00</td>\n",
        "      <td> 1</td>\n",
        "      <td>  780</td>\n",
        "      <td>  3.04</td>\n",
        "      <td>...</td>\n",
        "      <td>-73.972557</td>\n",
        "      <td> 40.761002</td>\n",
        "      <td> E8381ABE90A167521E37DFF144BEE70C</td>\n",
        "      <td> CRD</td>\n",
        "      <td> 12.0</td>\n",
        "      <td> 0.0</td>\n",
        "      <td> 0.5</td>\n",
        "      <td>  4.00</td>\n",
        "      <td> 0</td>\n",
        "      <td> 16.50</td>\n",
        "    </tr>\n",
        "    <tr>\n",
        "      <th>3</th>\n",
        "      <td> DAB668CC77B6E2BCDE421DA934DB2316</td>\n",
        "      <td> 7043B6B2FFF3160417316401FAE83ACF</td>\n",
        "      <td> VTS</td>\n",
        "      <td> 1</td>\n",
        "      <td> NaN</td>\n",
        "      <td> 2013-01-13 01:14:00</td>\n",
        "      <td> 2013-01-13 01:28:00</td>\n",
        "      <td> 1</td>\n",
        "      <td>  840</td>\n",
        "      <td>  4.00</td>\n",
        "      <td>...</td>\n",
        "      <td>-73.972633</td>\n",
        "      <td> 40.790783</td>\n",
        "      <td> DAB668CC77B6E2BCDE421DA934DB2316</td>\n",
        "      <td> CRD</td>\n",
        "      <td> 14.0</td>\n",
        "      <td> 0.5</td>\n",
        "      <td> 0.5</td>\n",
        "      <td>  2.58</td>\n",
        "      <td> 0</td>\n",
        "      <td> 17.58</td>\n",
        "    </tr>\n",
        "    <tr>\n",
        "      <th>4</th>\n",
        "      <td> DF8A37AE74123C21860C80C8A1EEDA17</td>\n",
        "      <td> 4045C05F38C2E333B7C212CEC21E4FE8</td>\n",
        "      <td> VTS</td>\n",
        "      <td> 1</td>\n",
        "      <td> NaN</td>\n",
        "      <td> 2013-01-13 07:09:00</td>\n",
        "      <td> 2013-01-13 07:11:00</td>\n",
        "      <td> 1</td>\n",
        "      <td>  120</td>\n",
        "      <td>  0.46</td>\n",
        "      <td>...</td>\n",
        "      <td>-73.975296</td>\n",
        "      <td> 40.792976</td>\n",
        "      <td> DF8A37AE74123C21860C80C8A1EEDA17</td>\n",
        "      <td> CRD</td>\n",
        "      <td>  3.5</td>\n",
        "      <td> 0.0</td>\n",
        "      <td> 0.5</td>\n",
        "      <td>  0.70</td>\n",
        "      <td> 0</td>\n",
        "      <td>  4.70</td>\n",
        "    </tr>\n",
        "  </tbody>\n",
        "</table>\n",
        "<p>5 rows \u00d7 22 columns</p>\n",
        "</div>"
       ],
       "metadata": {},
       "output_type": "pyout",
       "prompt_number": 18,
       "text": [
        "                        medallion_x                      hack_license  \\\n",
        "0  515EB6F8BEDB2B17CF1CF3B27B76AA93  A5AFFC8549AF873DEC5889ADE3BE7462   \n",
        "1  6F70DA82F52A1281E4E6646AE996D25A  4103ADCF50D18CFE25AB616F368A5945   \n",
        "2  E8381ABE90A167521E37DFF144BEE70C  0764AFB6DDECA74D776ABE460EE85CAB   \n",
        "3  DAB668CC77B6E2BCDE421DA934DB2316  7043B6B2FFF3160417316401FAE83ACF   \n",
        "4  DF8A37AE74123C21860C80C8A1EEDA17  4045C05F38C2E333B7C212CEC21E4FE8   \n",
        "\n",
        "  vendor_id  rate_code store_and_fwd_flag      pickup_datetime  \\\n",
        "0       VTS          1                NaN  2013-01-13 09:36:00   \n",
        "1       VTS          2                NaN  2013-01-13 06:43:00   \n",
        "2       VTS          1                NaN  2013-01-13 09:30:00   \n",
        "3       VTS          1                NaN  2013-01-13 01:14:00   \n",
        "4       VTS          1                NaN  2013-01-13 07:09:00   \n",
        "\n",
        "      dropoff_datetime  passenger_count  trip_time_in_secs  trip_distance  \\\n",
        "0  2013-01-13 09:45:00                1                540           3.26   \n",
        "1  2013-01-13 07:03:00                1               1200          17.02   \n",
        "2  2013-01-13 09:43:00                1                780           3.04   \n",
        "3  2013-01-13 01:28:00                1                840           4.00   \n",
        "4  2013-01-13 07:11:00                1                120           0.46   \n",
        "\n",
        "       ...        dropoff_longitude  dropoff_latitude  \\\n",
        "0      ...               -73.984390         40.736214   \n",
        "1      ...                 0.000000          0.000000   \n",
        "2      ...               -73.972557         40.761002   \n",
        "3      ...               -73.972633         40.790783   \n",
        "4      ...               -73.975296         40.792976   \n",
        "\n",
        "                        medallion_y  payment_type fare_amount surcharge  \\\n",
        "0  515EB6F8BEDB2B17CF1CF3B27B76AA93           CSH        11.5       0.0   \n",
        "1  6F70DA82F52A1281E4E6646AE996D25A           CRD        52.0       0.0   \n",
        "2  E8381ABE90A167521E37DFF144BEE70C           CRD        12.0       0.0   \n",
        "3  DAB668CC77B6E2BCDE421DA934DB2316           CRD        14.0       0.5   \n",
        "4  DF8A37AE74123C21860C80C8A1EEDA17           CRD         3.5       0.0   \n",
        "\n",
        "   mta_tax  tip_amount  tolls_amount  total_amount  \n",
        "0      0.5        0.00             0         12.00  \n",
        "1      0.5       10.40             0         62.90  \n",
        "2      0.5        4.00             0         16.50  \n",
        "3      0.5        2.58             0         17.58  \n",
        "4      0.5        0.70             0          4.70  \n",
        "\n",
        "[5 rows x 22 columns]"
       ]
      }
     ],
     "prompt_number": 18
    },
    {
     "cell_type": "code",
     "collapsed": false,
     "input": [
      "fare.columns"
     ],
     "language": "python",
     "metadata": {},
     "outputs": [
      {
       "metadata": {},
       "output_type": "pyout",
       "prompt_number": 10,
       "text": [
        "Index([u'index', u'medallion', u' hack_license', u' vendor_id', u' pickup_datetime', u' payment_type', u' fare_amount', u' surcharge', u' mta_tax', u' tip_amount', u' tolls_amount', u' total_amount'], dtype='object')"
       ]
      }
     ],
     "prompt_number": 10
    },
    {
     "cell_type": "code",
     "collapsed": false,
     "input": [],
     "language": "python",
     "metadata": {},
     "outputs": []
    }
   ],
   "metadata": {}
  }
 ]
}