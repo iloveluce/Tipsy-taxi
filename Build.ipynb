{
 "metadata": {
  "name": "",
  "signature": "sha256:47197e7dba0ec837c1100222b25ee6f20147c852e737c77a1d90659f344681b0"
 },
 "nbformat": 3,
 "nbformat_minor": 0,
 "worksheets": [
  {
   "cells": [
    {
     "cell_type": "code",
     "collapsed": false,
     "input": [
      "import pandas as pd\n",
      "import numpy as np\n",
      "import random\n",
      "import matplotlib.pyplot as plt # module for plotting \n",
      "\n",
      "%matplotlib inline"
     ],
     "language": "python",
     "metadata": {},
     "outputs": [],
     "prompt_number": 1
    },
    {
     "cell_type": "code",
     "collapsed": false,
     "input": [
      "def build_data(size):\n",
      "    for i in range(1,13):\n",
      "        print i\n",
      "        fare = pd.read_csv('trip_fare_' + str(i) + '.csv').reset_index()\n",
      "        trip = pd.read_csv('trip_data_' + str(i) + '.csv').reset_index()\n",
      "        sample = random.sample(range(0,len(trip) + 1),size)\n",
      "        fare_sub = fare[fare.index.isin(sample)]\n",
      "        trip_sub = trip[trip.index.isin(sample)]\n",
      "        fare_sub.columns = [x[1:] if x[0] == ' ' else x for x in fare_sub.columns]\n",
      "        trip_sub.columns = [x[1:] if x[0] == ' ' else x for x in trip_sub.columns]\n",
      "        del fare,trip\n",
      "        merged = pd.merge(trip_sub,fare_sub, on = ['index','medallion','hack_license','vendor_id','pickup_datetime']).drop('index',axis=1)\n",
      "        \n",
      "        # eliminate outliers based on location\n",
      "        merged = merged[(merged.pickup_latitude > 40.6) & (merged.pickup_latitude < 40.9) & (merged.pickup_longitude < -73.7) & (merged.pickup_longitude > -74.1)]\n",
      "        merged = merged[(merged.dropoff_latitude > 40.6) & (merged.dropoff_latitude < 40.9) & (merged.dropoff_longitude < -73.7) & (merged.dropoff_longitude > -74.1)]\n",
      "        \n",
      "        # drop trips with unreasonable times\n",
      "        merged = merged[(merged.trip_time_in_secs > 10.0) & (merged.trip_time_in_secs < 12000.0)]\n",
      "\n",
      "        # drop trips with payment not cash or credit\n",
      "        types = ['CRD','CSH']\n",
      "        merged = merged[merged.payment_type.isin(types)]\n",
      "        \n",
      "        if i == 1:\n",
      "            df = merged\n",
      "        else:\n",
      "            df = pd.concat([df,merged],ignore_index = True)\n",
      "    return df    \n",
      "\n",
      "taxi = build_data(20000)\n",
      "taxi.to_csv('master_2.csv')"
     ],
     "language": "python",
     "metadata": {},
     "outputs": [
      {
       "output_type": "stream",
       "stream": "stdout",
       "text": [
        "1\n",
        "2"
       ]
      },
      {
       "output_type": "stream",
       "stream": "stdout",
       "text": [
        "\n",
        "3"
       ]
      },
      {
       "output_type": "stream",
       "stream": "stdout",
       "text": [
        "\n",
        "4"
       ]
      },
      {
       "output_type": "stream",
       "stream": "stdout",
       "text": [
        "\n",
        "5"
       ]
      },
      {
       "output_type": "stream",
       "stream": "stdout",
       "text": [
        "\n",
        "6"
       ]
      },
      {
       "output_type": "stream",
       "stream": "stdout",
       "text": [
        "\n",
        "7"
       ]
      },
      {
       "output_type": "stream",
       "stream": "stdout",
       "text": [
        "\n",
        "8"
       ]
      },
      {
       "output_type": "stream",
       "stream": "stdout",
       "text": [
        "\n",
        "9"
       ]
      },
      {
       "output_type": "stream",
       "stream": "stdout",
       "text": [
        "\n",
        "10"
       ]
      },
      {
       "output_type": "stream",
       "stream": "stdout",
       "text": [
        "\n",
        "11"
       ]
      },
      {
       "output_type": "stream",
       "stream": "stdout",
       "text": [
        "\n",
        "12"
       ]
      },
      {
       "output_type": "stream",
       "stream": "stdout",
       "text": [
        "\n"
       ]
      },
      {
       "output_type": "stream",
       "stream": "stderr",
       "text": [
        "//anaconda/lib/python2.7/site-packages/pandas/io/parsers.py:1139: DtypeWarning: Columns (4) have mixed types. Specify dtype option on import or set low_memory=False.\n",
        "  data = self._reader.read(nrows)\n"
       ]
      }
     ],
     "prompt_number": 2
    },
    {
     "cell_type": "code",
     "collapsed": false,
     "input": [
      "len(taxi)"
     ],
     "language": "python",
     "metadata": {},
     "outputs": [
      {
       "metadata": {},
       "output_type": "pyout",
       "prompt_number": 3,
       "text": [
        "233189"
       ]
      }
     ],
     "prompt_number": 3
    },
    {
     "cell_type": "code",
     "collapsed": false,
     "input": [],
     "language": "python",
     "metadata": {},
     "outputs": []
    }
   ],
   "metadata": {}
  }
 ]
}