{
 "metadata": {
  "name": "",
  "signature": "sha256:73e8551d7b2a496d3bbd330ebb062c3c52257c824ec357f84431f37110a5b720"
 },
 "nbformat": 3,
 "nbformat_minor": 0,
 "worksheets": [
  {
   "cells": [
    {
     "cell_type": "markdown",
     "metadata": {},
     "source": [
      "# Tipsy Taxi\n",
      "\n",
      "By: Luciano Arango, Ali Monfre, and Justin Oliver"
     ]
    },
    {
     "cell_type": "code",
     "collapsed": false,
     "input": [
      "# import relevant libraries\n",
      "import time\n",
      "import pandas as pd\n",
      "import numpy as np\n",
      "import random\n",
      "import matplotlib.pyplot as plt\n",
      "import sklearn\n",
      "import seaborn as sns\n",
      "\n",
      "import sklearn.datasets\n",
      "import sklearn.cross_validation\n",
      "import sklearn.decomposition\n",
      "import sklearn.grid_search\n",
      "import sklearn.neighbors\n",
      "import sklearn.metrics\n",
      "from sklearn.ensemble import RandomForestClassifier\n",
      "from sklearn.cross_validation import cross_val_score\n",
      "from sklearn.feature_selection import SelectKBest, f_regression\n",
      "from itertools import cycle\n",
      "\n",
      "%matplotlib inline"
     ],
     "language": "python",
     "metadata": {},
     "outputs": [],
     "prompt_number": 1
    },
    {
     "cell_type": "markdown",
     "metadata": {},
     "source": [
      "### The data\n",
      "Describe where the data came from, how we read it in (reference Build.ipynb)"
     ]
    },
    {
     "cell_type": "code",
     "collapsed": false,
     "input": [
      "# read in the data\n",
      "taxi = pd.read_csv('master_2.csv')\n",
      "\n",
      "# drop unnecessary columns\n",
      "taxi.drop(['Unnamed: 0'], axis=1, inplace=True)"
     ],
     "language": "python",
     "metadata": {},
     "outputs": []
    },
    {
     "cell_type": "markdown",
     "metadata": {},
     "source": [
      "In looking at the data and trying to find trends, we discovered several outliers in the data that simply did not make any sense. Examples include trips that apparently lasted for around 10000 minutes, cars that hit speeds above 60mph, and cars that traveled at 0mph."
     ]
    },
    {
     "cell_type": "code",
     "collapsed": false,
     "input": [
      "# convert times to datetime objects\n",
      "taxi['pickup_datetime'] = [pd.to_datetime(a) for a in taxi['pickup_datetime']]\n",
      "taxi['dropoff_datetime'] = [pd.to_datetime(a) for a in taxi['dropoff_datetime']]\n",
      "\n",
      "# generate a column for trip time in minutes\n",
      "taxi['trip_time_min'] = taxi['trip_time_in_secs']/60.0\n",
      "\n",
      "# generate column for minutes since midnight\n",
      "taxi['time'] = [a.hour*60 + a.minute for a in taxi['pickup_datetime']]\n",
      "\n",
      "# generate a column for hour of the day\n",
      "taxi['hour'] = [a.hour for a in taxi['pickup_datetime']]\n",
      "\n",
      "# generate a column for average speed of the trip\n",
      "taxi['trip_time_hr'] = taxi['trip_time_min']/60.0\n",
      "taxi['speed'] = taxi['trip_distance']/taxi['trip_time_hr']\n",
      "\n",
      "# drop trips with unreasonable speeds (in excess of 60mph)\n",
      "taxi = taxi[(taxi.speed < 60.0) & (taxi.speed > 0.0)]\n",
      "\n",
      "# generate a column for the day of the week\n",
      "taxi['weekday'] = [a.weekday() for a in taxi['pickup_datetime']]\n",
      "\n",
      "# generate a column to note whether it was a weekday or a weekend\n",
      "taxi['weekend'] = [1 if (a == 5 or a == 6) else 0 for a in taxi['weekday']]\n",
      "\n",
      "# generate a column to calculate the total fare\n",
      "taxi['cost'] = taxi['total_amount'] - taxi['tip_amount']\n",
      "\n",
      "# generate a table only for credit card values for tip data purposes\n",
      "credit = taxi[taxi['payment_type'] == 'CRD']"
     ],
     "language": "python",
     "metadata": {},
     "outputs": []
    }
   ],
   "metadata": {}
  }
 ]
}